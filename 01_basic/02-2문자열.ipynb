{
 "cells": [
  {
   "cell_type": "code",
   "execution_count": 4,
   "id": "dca5dc1a-fb77-4e91-a480-a2a69335c7ee",
   "metadata": {
    "tags": []
   },
   "outputs": [
    {
     "data": {
      "text/plain": [
       "\"hello world's\""
      ]
     },
     "execution_count": 4,
     "metadata": {},
     "output_type": "execute_result"
    }
   ],
   "source": [
    "data1 = \"hello world's\"\n",
    "data1"
   ]
  },
  {
   "cell_type": "code",
   "execution_count": 6,
   "id": "e382049b-9123-4881-921a-6169726f7fad",
   "metadata": {
    "tags": []
   },
   "outputs": [
    {
     "data": {
      "text/plain": [
       "'i sya \"hi\"'"
      ]
     },
     "execution_count": 6,
     "metadata": {},
     "output_type": "execute_result"
    }
   ],
   "source": [
    "data2 = 'i sya \"hi\"'\n",
    "data2"
   ]
  },
  {
   "cell_type": "code",
   "execution_count": 11,
   "id": "ba74533a-e5e3-4612-b135-1f98e96f8d1e",
   "metadata": {
    "tags": []
   },
   "outputs": [
    {
     "data": {
      "text/plain": [
       "'hello\\nhi\\n'"
      ]
     },
     "execution_count": 11,
     "metadata": {},
     "output_type": "execute_result"
    }
   ],
   "source": [
    "data3 = 'hello\\nhi\\n'\n",
    "data3"
   ]
  },
  {
   "cell_type": "code",
   "execution_count": 12,
   "id": "dcfcfe53-e592-4623-96a8-8b4d5c234023",
   "metadata": {
    "tags": []
   },
   "outputs": [
    {
     "name": "stdout",
     "output_type": "stream",
     "text": [
      "hello\n",
      "hi\n",
      "\n"
     ]
    }
   ],
   "source": [
    "print(data3)"
   ]
  },
  {
   "cell_type": "code",
   "execution_count": 15,
   "id": "bf1566e4-d7c4-4a15-ae1c-b49a55d8cee9",
   "metadata": {
    "tags": []
   },
   "outputs": [
    {
     "data": {
      "text/plain": [
       "'내용1\\n내용2\\n내용3\\n'"
      ]
     },
     "execution_count": 15,
     "metadata": {},
     "output_type": "execute_result"
    }
   ],
   "source": [
    "data4 = '''내용1\n",
    "내용2\n",
    "내용3\n",
    "'''\n",
    "data4"
   ]
  },
  {
   "cell_type": "code",
   "execution_count": 17,
   "id": "c8401c35-a69c-4c62-9959-dc9c4c65299e",
   "metadata": {
    "tags": []
   },
   "outputs": [
    {
     "name": "stdout",
     "output_type": "stream",
     "text": [
      "내용1\n",
      "내용2\n",
      "내용3\n",
      "\n"
     ]
    }
   ],
   "source": [
    "print(data4)"
   ]
  },
  {
   "cell_type": "code",
   "execution_count": 97,
   "id": "9f81b270-cde3-49ec-8721-8f190809a575",
   "metadata": {
    "tags": []
   },
   "outputs": [
    {
     "data": {
      "text/plain": [
       "\"python's \""
      ]
     },
     "execution_count": 97,
     "metadata": {},
     "output_type": "execute_result"
    }
   ],
   "source": [
    "\"python's \" #큰 따옴표 안에 작은 따옴표"
   ]
  },
  {
   "cell_type": "code",
   "execution_count": 21,
   "id": "d0ec6190-1159-4e37-a48c-b5efe830b6a5",
   "metadata": {
    "tags": []
   },
   "outputs": [
    {
     "data": {
      "text/plain": [
       "'python is fun!'"
      ]
     },
     "execution_count": 21,
     "metadata": {},
     "output_type": "execute_result"
    }
   ],
   "source": [
    "head = \"python\"\n",
    "tail = \" is fun!\"\n",
    "head + tail"
   ]
  },
  {
   "cell_type": "code",
   "execution_count": 98,
   "id": "274dfaf5-6221-46ee-bc0d-1178e9668338",
   "metadata": {
    "tags": []
   },
   "outputs": [
    {
     "ename": "TypeError",
     "evalue": "can only concatenate str (not \"int\") to str",
     "output_type": "error",
     "traceback": [
      "\u001b[1;31m---------------------------------------------------------------------------\u001b[0m",
      "\u001b[1;31mTypeError\u001b[0m                                 Traceback (most recent call last)",
      "Cell \u001b[1;32mIn[98], line 1\u001b[0m\n\u001b[1;32m----> 1\u001b[0m head \u001b[38;5;241m+\u001b[39m \u001b[38;5;241m2\u001b[39m\n",
      "\u001b[1;31mTypeError\u001b[0m: can only concatenate str (not \"int\") to str"
     ]
    }
   ],
   "source": [
    "head + 2"
   ]
  },
  {
   "cell_type": "code",
   "execution_count": 23,
   "id": "ab0be197-8853-4f63-9a92-a862d84ff038",
   "metadata": {
    "tags": []
   },
   "outputs": [
    {
     "data": {
      "text/plain": [
       "'pythonpython'"
      ]
     },
     "execution_count": 23,
     "metadata": {},
     "output_type": "execute_result"
    }
   ],
   "source": [
    "head * 2"
   ]
  },
  {
   "cell_type": "code",
   "execution_count": 25,
   "id": "91653718-2dfd-44d3-9166-8f0dde75ff77",
   "metadata": {
    "tags": []
   },
   "outputs": [
    {
     "data": {
      "text/plain": [
       "'--------------------------------------------------'"
      ]
     },
     "execution_count": 25,
     "metadata": {},
     "output_type": "execute_result"
    }
   ],
   "source": [
    "'-'*50"
   ]
  },
  {
   "cell_type": "code",
   "execution_count": 26,
   "id": "ff0d6413-6914-4c7d-9776-be13d31db460",
   "metadata": {
    "tags": []
   },
   "outputs": [
    {
     "ename": "TypeError",
     "evalue": "unsupported operand type(s) for /: 'str' and 'str'",
     "output_type": "error",
     "traceback": [
      "\u001b[1;31m---------------------------------------------------------------------------\u001b[0m",
      "\u001b[1;31mTypeError\u001b[0m                                 Traceback (most recent call last)",
      "Cell \u001b[1;32mIn[26], line 1\u001b[0m\n\u001b[1;32m----> 1\u001b[0m head \u001b[38;5;241m/\u001b[39m tail\n",
      "\u001b[1;31mTypeError\u001b[0m: unsupported operand type(s) for /: 'str' and 'str'"
     ]
    }
   ],
   "source": [
    "head / tail"
   ]
  },
  {
   "cell_type": "code",
   "execution_count": 28,
   "id": "16f44bf2-f817-4e75-9ca2-e1674b0e09a4",
   "metadata": {
    "tags": []
   },
   "outputs": [
    {
     "data": {
      "text/plain": [
       "6"
      ]
     },
     "execution_count": 28,
     "metadata": {},
     "output_type": "execute_result"
    }
   ],
   "source": [
    "len(head)"
   ]
  },
  {
   "cell_type": "code",
   "execution_count": 33,
   "id": "f3e91da4-e6b8-4753-953c-32945b32801d",
   "metadata": {
    "tags": []
   },
   "outputs": [
    {
     "data": {
      "text/plain": [
       "'L'"
      ]
     },
     "execution_count": 33,
     "metadata": {},
     "output_type": "execute_result"
    }
   ],
   "source": [
    "a = \"Life is too short, You need Python\"\n",
    "a[0]"
   ]
  },
  {
   "cell_type": "code",
   "execution_count": 34,
   "id": "bb8e856d-c407-4cfc-ac0a-8bffa8c1a2b0",
   "metadata": {
    "tags": []
   },
   "outputs": [
    {
     "data": {
      "text/plain": [
       "34"
      ]
     },
     "execution_count": 34,
     "metadata": {},
     "output_type": "execute_result"
    }
   ],
   "source": [
    "len(a)"
   ]
  },
  {
   "cell_type": "code",
   "execution_count": 35,
   "id": "e56a14a8-bad3-4920-93de-32244dc84545",
   "metadata": {
    "tags": []
   },
   "outputs": [
    {
     "data": {
      "text/plain": [
       "'n'"
      ]
     },
     "execution_count": 35,
     "metadata": {},
     "output_type": "execute_result"
    }
   ],
   "source": [
    "a[33]"
   ]
  },
  {
   "cell_type": "code",
   "execution_count": 36,
   "id": "05124f31-582f-474d-a7cd-412f3996e957",
   "metadata": {
    "tags": []
   },
   "outputs": [
    {
     "data": {
      "text/plain": [
       "'n'"
      ]
     },
     "execution_count": 36,
     "metadata": {},
     "output_type": "execute_result"
    }
   ],
   "source": [
    "a[-1]"
   ]
  },
  {
   "cell_type": "code",
   "execution_count": 37,
   "id": "604da268-930f-42a9-8f38-4f6af8ecb0d5",
   "metadata": {
    "tags": []
   },
   "outputs": [
    {
     "data": {
      "text/plain": [
       "'L'"
      ]
     },
     "execution_count": 37,
     "metadata": {},
     "output_type": "execute_result"
    }
   ],
   "source": [
    "a[-0]"
   ]
  },
  {
   "cell_type": "code",
   "execution_count": 38,
   "id": "b21904f4-46d1-4b1c-ae92-ad23913c49bf",
   "metadata": {
    "tags": []
   },
   "outputs": [
    {
     "data": {
      "text/plain": [
       "'Lif'"
      ]
     },
     "execution_count": 38,
     "metadata": {},
     "output_type": "execute_result"
    }
   ],
   "source": [
    "a[0:3]"
   ]
  },
  {
   "cell_type": "code",
   "execution_count": 39,
   "id": "8ccab148-27ca-4e3c-b9b1-56c3c409bd3e",
   "metadata": {
    "tags": []
   },
   "outputs": [
    {
     "data": {
      "text/plain": [
       "'Life is too short, You need Pytho'"
      ]
     },
     "execution_count": 39,
     "metadata": {},
     "output_type": "execute_result"
    }
   ],
   "source": [
    "a[0:-1]"
   ]
  },
  {
   "cell_type": "code",
   "execution_count": 40,
   "id": "ec4a6882-cf92-4a44-a83b-d7523da708b8",
   "metadata": {
    "tags": []
   },
   "outputs": [
    {
     "data": {
      "text/plain": [
       "'Life is too short, You need Python'"
      ]
     },
     "execution_count": 40,
     "metadata": {},
     "output_type": "execute_result"
    }
   ],
   "source": [
    "a[:]"
   ]
  },
  {
   "cell_type": "code",
   "execution_count": 41,
   "id": "26c5f0a7-c9e3-4a3f-8a52-c64b9e698f5a",
   "metadata": {
    "tags": []
   },
   "outputs": [
    {
     "data": {
      "text/plain": [
       "'Life is too short, You need P'"
      ]
     },
     "execution_count": 41,
     "metadata": {},
     "output_type": "execute_result"
    }
   ],
   "source": [
    "a[:-5]"
   ]
  },
  {
   "cell_type": "code",
   "execution_count": 56,
   "id": "d23b00a6-8b8f-4fc4-92c2-746012242e4e",
   "metadata": {
    "tags": []
   },
   "outputs": [],
   "source": [
    "a = '%s - I eat %d apples.' % ('jjj', 3) #값이 하나면 () 생략 가능"
   ]
  },
  {
   "cell_type": "code",
   "execution_count": 57,
   "id": "45e519f8-496a-4d87-9cf8-ec1c8ad51805",
   "metadata": {
    "tags": []
   },
   "outputs": [
    {
     "name": "stdout",
     "output_type": "stream",
     "text": [
      "jjj - I eat 3 apples.\n"
     ]
    }
   ],
   "source": [
    "print(a)"
   ]
  },
  {
   "cell_type": "code",
   "execution_count": 59,
   "id": "b9c4f743-19e8-4f49-acc4-b4606f24f717",
   "metadata": {
    "tags": []
   },
   "outputs": [
    {
     "data": {
      "text/plain": [
       "'hi'"
      ]
     },
     "execution_count": 59,
     "metadata": {},
     "output_type": "execute_result"
    }
   ],
   "source": [
    "'%s' % 'hi'"
   ]
  },
  {
   "cell_type": "code",
   "execution_count": 60,
   "id": "9685a4cc-39ef-4ee5-a863-9da9a830e046",
   "metadata": {
    "tags": []
   },
   "outputs": [
    {
     "data": {
      "text/plain": [
       "'        hi'"
      ]
     },
     "execution_count": 60,
     "metadata": {},
     "output_type": "execute_result"
    }
   ],
   "source": [
    "'%10s' % 'hi'"
   ]
  },
  {
   "cell_type": "code",
   "execution_count": 61,
   "id": "e4d6d473-0806-4840-9f01-1539cc6ce48a",
   "metadata": {
    "tags": []
   },
   "outputs": [
    {
     "data": {
      "text/plain": [
       "'hi        '"
      ]
     },
     "execution_count": 61,
     "metadata": {},
     "output_type": "execute_result"
    }
   ],
   "source": [
    "'%-10s' % 'hi'"
   ]
  },
  {
   "cell_type": "code",
   "execution_count": 66,
   "id": "37adc907-941e-4ba9-9dc1-05fd5baded3e",
   "metadata": {
    "tags": []
   },
   "outputs": [
    {
     "data": {
      "text/plain": [
       "'3.1416'"
      ]
     },
     "execution_count": 66,
     "metadata": {},
     "output_type": "execute_result"
    }
   ],
   "source": [
    "\"%.4f\" % 3.1415925824"
   ]
  },
  {
   "cell_type": "code",
   "execution_count": 82,
   "id": "bf12a38e-51de-4f37-bed6-aa690c73f1f0",
   "metadata": {
    "tags": []
   },
   "outputs": [
    {
     "name": "stdout",
     "output_type": "stream",
     "text": [
      "<class 'str'>\n"
     ]
    },
    {
     "data": {
      "text/plain": [
       "'i eat 1 apples'"
      ]
     },
     "execution_count": 82,
     "metadata": {},
     "output_type": "execute_result"
    }
   ],
   "source": [
    "data = 'i eat {} apples'\n",
    "print(type(data))\n",
    "# 'i eat {} apples'.format()\n",
    "data.format(1)"
   ]
  },
  {
   "cell_type": "code",
   "execution_count": 81,
   "id": "37e302b5-259b-4f87-b213-7c224cc200ae",
   "metadata": {
    "tags": []
   },
   "outputs": [
    {
     "data": {
      "text/plain": [
       "<function str.format>"
      ]
     },
     "execution_count": 81,
     "metadata": {},
     "output_type": "execute_result"
    }
   ],
   "source": [
    "data.format"
   ]
  },
  {
   "cell_type": "code",
   "execution_count": 85,
   "id": "e4aab30d-6b48-4cd2-b99f-bb022259b46d",
   "metadata": {
    "tags": []
   },
   "outputs": [
    {
     "data": {
      "text/plain": [
       "'i hhhh eat 7 apples'"
      ]
     },
     "execution_count": 85,
     "metadata": {},
     "output_type": "execute_result"
    }
   ],
   "source": [
    "data = 'i {} eat {} apples'\n",
    "data.format('hhhh', 7)"
   ]
  },
  {
   "cell_type": "code",
   "execution_count": 89,
   "id": "4a044666-6bde-479b-8f3b-f38240b4584f",
   "metadata": {
    "tags": []
   },
   "outputs": [
    {
     "data": {
      "text/plain": [
       "'i    hhhh    eat 70,000.0             apples'"
      ]
     },
     "execution_count": 89,
     "metadata": {},
     "output_type": "execute_result"
    }
   ],
   "source": [
    "data = 'i {:^10} eat {:<20,.1f} apples' # <왼쪽정렬, >오른쪽정렬, ^가운데 정렬\n",
    "data.format('hhhh', 70000)"
   ]
  },
  {
   "cell_type": "code",
   "execution_count": 91,
   "id": "fc556adf-a690-4363-b9c9-2ae65f24eac9",
   "metadata": {
    "tags": []
   },
   "outputs": [
    {
     "data": {
      "text/plain": [
       "'i    hhhh    - i eat ______70,000.0______ apples'"
      ]
     },
     "execution_count": 91,
     "metadata": {},
     "output_type": "execute_result"
    }
   ],
   "source": [
    "data = 'i {:^10} - i eat {:_^20,.1f} apples'\n",
    "data.format('hhhh', 70000)"
   ]
  },
  {
   "cell_type": "code",
   "execution_count": 96,
   "id": "a3cf42de-a3d7-4297-9b9c-4e6c123454ed",
   "metadata": {
    "tags": []
   },
   "outputs": [
    {
     "name": "stdin",
     "output_type": "stream",
     "text": [
      "이름 >>>  test\n",
      "갯수 >>>  3\n"
     ]
    },
    {
     "data": {
      "text/plain": [
       "'i    test    - i eat ________3.0_________ apples'"
      ]
     },
     "execution_count": 96,
     "metadata": {},
     "output_type": "execute_result"
    }
   ],
   "source": [
    "data = 'i {:^10} - i eat {:_^20,.1f} apples'\n",
    "name = input('이름 >>> ')\n",
    "total = int(input('갯수 >>> '))\n",
    "data.format(name, total)"
   ]
  },
  {
   "cell_type": "code",
   "execution_count": 102,
   "id": "4abf4f82-990e-4bc5-b26f-6ad933c40861",
   "metadata": {
    "tags": []
   },
   "outputs": [
    {
     "name": "stdin",
     "output_type": "stream",
     "text": [
      "이름 >>>  TEST\n",
      "갯수 >>>  10\n"
     ]
    },
    {
     "data": {
      "text/plain": [
       "'TEST - i eat 10.0 apples'"
      ]
     },
     "execution_count": 102,
     "metadata": {},
     "output_type": "execute_result"
    }
   ],
   "source": [
    "name = input('이름 >>> ')\n",
    "total = int(input('갯수 >>> '))\n",
    "f'{name} - i eat {total:,.1f} apples'"
   ]
  },
  {
   "cell_type": "code",
   "execution_count": 106,
   "id": "4050ee82-69d5-4a10-afd0-0278afeeefe2",
   "metadata": {
    "tags": []
   },
   "outputs": [
    {
     "data": {
      "text/plain": [
       "2"
      ]
     },
     "execution_count": 106,
     "metadata": {},
     "output_type": "execute_result"
    }
   ],
   "source": [
    "a = 'hobby'\n",
    "a.count('b')"
   ]
  },
  {
   "cell_type": "code",
   "execution_count": 107,
   "id": "baf27600-a704-41ca-bf1e-1e280a5fc2e8",
   "metadata": {
    "tags": []
   },
   "outputs": [
    {
     "name": "stdin",
     "output_type": "stream",
     "text": [
      "email >>> ngy0117@gmail.com\n"
     ]
    },
    {
     "data": {
      "text/plain": [
       "1"
      ]
     },
     "execution_count": 107,
     "metadata": {},
     "output_type": "execute_result"
    }
   ],
   "source": [
    "email = input('email >>>')\n",
    "email.count('@')"
   ]
  },
  {
   "cell_type": "code",
   "execution_count": 108,
   "id": "ccea032f-1991-47a0-928b-3f68315e5094",
   "metadata": {
    "tags": []
   },
   "outputs": [
    {
     "name": "stdin",
     "output_type": "stream",
     "text": [
      "email >>> ngy0117@gmail.com\n"
     ]
    },
    {
     "data": {
      "text/plain": [
       "7"
      ]
     },
     "execution_count": 108,
     "metadata": {},
     "output_type": "execute_result"
    }
   ],
   "source": [
    "email = input('email >>>') #없으면 -1 출력\n",
    "email.find('@')"
   ]
  },
  {
   "cell_type": "code",
   "execution_count": 112,
   "id": "83dca3b3-5863-4e47-8b62-f29143d41004",
   "metadata": {
    "tags": []
   },
   "outputs": [
    {
     "data": {
      "text/plain": [
       "'a,b,c,d'"
      ]
     },
     "execution_count": 112,
     "metadata": {},
     "output_type": "execute_result"
    }
   ],
   "source": [
    "','.join('abcd')"
   ]
  },
  {
   "cell_type": "code",
   "execution_count": 117,
   "id": "35119655-9c2f-4db7-b9a5-73e025ccae12",
   "metadata": {
    "tags": []
   },
   "outputs": [
    {
     "data": {
      "text/plain": [
       "'사과,배,딸기,수박'"
      ]
     },
     "execution_count": 117,
     "metadata": {},
     "output_type": "execute_result"
    }
   ],
   "source": [
    "','.join(['사과', '배', '딸기', '수박']) #여러 단어를 하나의 문자열로 취급하고 싶을 때 사용"
   ]
  },
  {
   "cell_type": "code",
   "execution_count": 118,
   "id": "302bf14f-a802-4235-aeb5-681eb8332e70",
   "metadata": {
    "tags": []
   },
   "outputs": [
    {
     "name": "stdin",
     "output_type": "stream",
     "text": [
      "입력문자 >>>  WEFEFDFG\n"
     ]
    }
   ],
   "source": [
    "intext = input('입력문자 >>> ')"
   ]
  },
  {
   "cell_type": "code",
   "execution_count": 119,
   "id": "6c8e9c89-6eba-4a3c-9703-6b91c3f6f7cb",
   "metadata": {
    "tags": []
   },
   "outputs": [
    {
     "data": {
      "text/plain": [
       "'wefefdfg'"
      ]
     },
     "execution_count": 119,
     "metadata": {},
     "output_type": "execute_result"
    }
   ],
   "source": [
    "intext.lower()"
   ]
  },
  {
   "cell_type": "code",
   "execution_count": 122,
   "id": "606a0e43-b868-44cb-9880-5a831ddba33c",
   "metadata": {
    "tags": []
   },
   "outputs": [
    {
     "name": "stdin",
     "output_type": "stream",
     "text": [
      "입력 >>>     dddd    \n"
     ]
    }
   ],
   "source": [
    "data = input('입력 >>>')"
   ]
  },
  {
   "cell_type": "code",
   "execution_count": 123,
   "id": "138c74ae-a9b5-4e41-a873-ff92dfbc2324",
   "metadata": {
    "tags": []
   },
   "outputs": [
    {
     "data": {
      "text/plain": [
       "'    dddd    '"
      ]
     },
     "execution_count": 123,
     "metadata": {},
     "output_type": "execute_result"
    }
   ],
   "source": [
    "data"
   ]
  },
  {
   "cell_type": "code",
   "execution_count": 124,
   "id": "b13b9448-5f2d-49ba-afe9-2c00c15cb4aa",
   "metadata": {
    "tags": []
   },
   "outputs": [
    {
     "data": {
      "text/plain": [
       "'dddd'"
      ]
     },
     "execution_count": 124,
     "metadata": {},
     "output_type": "execute_result"
    }
   ],
   "source": [
    "data.strip()"
   ]
  },
  {
   "cell_type": "code",
   "execution_count": 126,
   "id": "b540c845-3748-4396-a6c2-6888eea58eaa",
   "metadata": {
    "tags": []
   },
   "outputs": [
    {
     "name": "stdin",
     "output_type": "stream",
     "text": [
      "입력 >>> 123,4\n"
     ]
    },
    {
     "ename": "ValueError",
     "evalue": "invalid literal for int() with base 10: '123,4'",
     "output_type": "error",
     "traceback": [
      "\u001b[1;31m---------------------------------------------------------------------------\u001b[0m",
      "\u001b[1;31mValueError\u001b[0m                                Traceback (most recent call last)",
      "Cell \u001b[1;32mIn[126], line 2\u001b[0m\n\u001b[0;32m      1\u001b[0m data \u001b[38;5;241m=\u001b[39m \u001b[38;5;28minput\u001b[39m(\u001b[38;5;124m'\u001b[39m\u001b[38;5;124m입력 >>>\u001b[39m\u001b[38;5;124m'\u001b[39m)\n\u001b[1;32m----> 2\u001b[0m \u001b[38;5;28mint\u001b[39m(data)\n",
      "\u001b[1;31mValueError\u001b[0m: invalid literal for int() with base 10: '123,4'"
     ]
    }
   ],
   "source": [
    "data = input('입력 >>>')\n",
    "int(data) #콤마 때문에 오류가 생긴다."
   ]
  },
  {
   "cell_type": "code",
   "execution_count": 130,
   "id": "1252fa52-5a90-4004-bb63-b123a9ba9e17",
   "metadata": {
    "tags": []
   },
   "outputs": [
    {
     "name": "stdin",
     "output_type": "stream",
     "text": [
      "입력 >>> 123,4\n"
     ]
    },
    {
     "data": {
      "text/plain": [
       "1234.0"
      ]
     },
     "execution_count": 130,
     "metadata": {},
     "output_type": "execute_result"
    }
   ],
   "source": [
    "data = input('입력 >>>')\n",
    "float(data.replace(',',''))"
   ]
  }
 ],
 "metadata": {
  "kernelspec": {
   "display_name": "Python 3 (ipykernel)",
   "language": "python",
   "name": "python3"
  },
  "language_info": {
   "codemirror_mode": {
    "name": "ipython",
    "version": 3
   },
   "file_extension": ".py",
   "mimetype": "text/x-python",
   "name": "python",
   "nbconvert_exporter": "python",
   "pygments_lexer": "ipython3",
   "version": "3.11.5"
  }
 },
 "nbformat": 4,
 "nbformat_minor": 5
}
