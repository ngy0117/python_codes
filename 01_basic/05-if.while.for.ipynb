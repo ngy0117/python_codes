{
 "cells": [
  {
   "cell_type": "code",
   "execution_count": 6,
   "id": "b7737323-a8d6-4145-b694-c558d412c8d0",
   "metadata": {
    "tags": []
   },
   "outputs": [
    {
     "name": "stdin",
     "output_type": "stream",
     "text": [
      "주민번호 입력:  0000000000\n"
     ]
    },
    {
     "name": "stdout",
     "output_type": "stream",
     "text": [
      "error\n"
     ]
    }
   ],
   "source": [
    "# 주민등록번호를 입력받아서 성별을 체크하고 출력합니다.\n",
    "jumin = input(\"주민번호 입력: \")\n",
    "jumin = jumin.replace('-', '')\n",
    "gender = int(jumin[6])\n",
    "\n",
    "if gender == 1 or gender == 3:\n",
    "    print(\"남성\")\n",
    "elif gender == 2 or gender == 4:\n",
    "    print(\"여성\")\n",
    "else:\n",
    "    print(\"error\")"
   ]
  },
  {
   "cell_type": "code",
   "execution_count": 13,
   "id": "ebf9c17b-0beb-449d-b757-ea4f08a27902",
   "metadata": {
    "tags": []
   },
   "outputs": [
    {
     "name": "stdin",
     "output_type": "stream",
     "text": [
      "점수를 입력 >>> 10\n"
     ]
    },
    {
     "name": "stdout",
     "output_type": "stream",
     "text": [
      "failure\n"
     ]
    }
   ],
   "source": [
    "score = input('점수를 입력 >>>')\n",
    "\n",
    "if score.isdigit():\n",
    "    message = 'success' if int(score) >= 60 else 'failure'\n",
    "    print(message)\n",
    "else:\n",
    "    print('숫자를 입력하세요') #while 로 교체"
   ]
  },
  {
   "cell_type": "code",
   "execution_count": 14,
   "id": "3642c16c-d5b8-45c0-96b9-220fd702f113",
   "metadata": {
    "tags": []
   },
   "outputs": [
    {
     "name": "stdout",
     "output_type": "stream",
     "text": [
      "숫자로 입력하세요\n"
     ]
    },
    {
     "name": "stdin",
     "output_type": "stream",
     "text": [
      "점수를 입력 >>> 50\n"
     ]
    },
    {
     "name": "stdout",
     "output_type": "stream",
     "text": [
      "failure\n"
     ]
    }
   ],
   "source": [
    "score = ''\n",
    "while not score.isdigit():\n",
    "    print('숫자로 입력하세요')\n",
    "    score = input('점수를 입력 >>>')\n",
    "massage = 'success' if int(score) >= 60 else 'failure'\n",
    "print(message)"
   ]
  },
  {
   "cell_type": "code",
   "execution_count": 18,
   "id": "09f56c59-e575-4d89-8492-e7feb66f8526",
   "metadata": {
    "tags": []
   },
   "outputs": [
    {
     "data": {
      "text/plain": [
       "range(1, 10)"
      ]
     },
     "execution_count": 18,
     "metadata": {},
     "output_type": "execute_result"
    }
   ],
   "source": [
    "range(1, 10)"
   ]
  },
  {
   "cell_type": "code",
   "execution_count": 19,
   "id": "350f4c9e-9055-4c46-92a5-374515336d78",
   "metadata": {
    "tags": []
   },
   "outputs": [
    {
     "name": "stdout",
     "output_type": "stream",
     "text": [
      "0\n",
      "1\n",
      "2\n",
      "3\n",
      "4\n",
      "5\n",
      "6\n",
      "7\n",
      "8\n",
      "9\n"
     ]
    }
   ],
   "source": [
    "for i in range(10):\n",
    "    print(i)"
   ]
  },
  {
   "cell_type": "code",
   "execution_count": 20,
   "id": "28f9de2d-f8d7-41de-bd47-c378953cd640",
   "metadata": {
    "tags": []
   },
   "outputs": [
    {
     "name": "stdout",
     "output_type": "stream",
     "text": [
      "1\n",
      "3\n",
      "6\n",
      "8\n",
      "3\n",
      "9\n"
     ]
    }
   ],
   "source": [
    "data = [1,3,6,8,3,9]\n",
    "for i in data:\n",
    "    print(i)"
   ]
  },
  {
   "cell_type": "code",
   "execution_count": 43,
   "id": "b29e7aa5-5a16-41ee-8676-2121dd29597f",
   "metadata": {
    "tags": []
   },
   "outputs": [
    {
     "name": "stdout",
     "output_type": "stream",
     "text": [
      "      2단\n",
      "---------------\n",
      "   2 * 1 = 2\n",
      "   2 * 2 = 4\n",
      "   2 * 3 = 6\n",
      "   2 * 4 = 8\n",
      "   2 * 5 = 10\n",
      "   2 * 6 = 12\n",
      "   2 * 7 = 14\n",
      "   2 * 8 = 16\n",
      "   2 * 9 = 18\n",
      "\n",
      "      3단\n",
      "---------------\n",
      "   3 * 1 = 3\n",
      "   3 * 2 = 6\n",
      "   3 * 3 = 9\n",
      "   3 * 4 = 12\n",
      "   3 * 5 = 15\n",
      "   3 * 6 = 18\n",
      "   3 * 7 = 21\n",
      "   3 * 8 = 24\n",
      "   3 * 9 = 27\n",
      "\n",
      "      4단\n",
      "---------------\n",
      "   4 * 1 = 4\n",
      "   4 * 2 = 8\n",
      "   4 * 3 = 12\n",
      "   4 * 4 = 16\n",
      "   4 * 5 = 20\n",
      "   4 * 6 = 24\n",
      "   4 * 7 = 28\n",
      "   4 * 8 = 32\n",
      "   4 * 9 = 36\n",
      "\n",
      "      5단\n",
      "---------------\n",
      "   5 * 1 = 5\n",
      "   5 * 2 = 10\n",
      "   5 * 3 = 15\n",
      "   5 * 4 = 20\n",
      "   5 * 5 = 25\n",
      "   5 * 6 = 30\n",
      "   5 * 7 = 35\n",
      "   5 * 8 = 40\n",
      "   5 * 9 = 45\n",
      "\n",
      "      6단\n",
      "---------------\n",
      "   6 * 1 = 6\n",
      "   6 * 2 = 12\n",
      "   6 * 3 = 18\n",
      "   6 * 4 = 24\n",
      "   6 * 5 = 30\n",
      "   6 * 6 = 36\n",
      "   6 * 7 = 42\n",
      "   6 * 8 = 48\n",
      "   6 * 9 = 54\n",
      "\n",
      "      7단\n",
      "---------------\n",
      "   7 * 1 = 7\n",
      "   7 * 2 = 14\n",
      "   7 * 3 = 21\n",
      "   7 * 4 = 28\n",
      "   7 * 5 = 35\n",
      "   7 * 6 = 42\n",
      "   7 * 7 = 49\n",
      "   7 * 8 = 56\n",
      "   7 * 9 = 63\n",
      "\n",
      "      8단\n",
      "---------------\n",
      "   8 * 1 = 8\n",
      "   8 * 2 = 16\n",
      "   8 * 3 = 24\n",
      "   8 * 4 = 32\n",
      "   8 * 5 = 40\n",
      "   8 * 6 = 48\n",
      "   8 * 7 = 56\n",
      "   8 * 8 = 64\n",
      "   8 * 9 = 72\n",
      "\n",
      "      9단\n",
      "---------------\n",
      "   9 * 1 = 9\n",
      "   9 * 2 = 18\n",
      "   9 * 3 = 27\n",
      "   9 * 4 = 36\n",
      "   9 * 5 = 45\n",
      "   9 * 6 = 54\n",
      "   9 * 7 = 63\n",
      "   9 * 8 = 72\n",
      "   9 * 9 = 81\n",
      "\n"
     ]
    }
   ],
   "source": [
    "for dan in range(2, 10):\n",
    "    print(f\"      {dan}단\")\n",
    "    print(\"-\" * 15)\n",
    "    for count in range(1, 10):\n",
    "        result = dan * count\n",
    "        print(f\"   {dan} * {count} = {result}\")\n",
    "    print()"
   ]
  },
  {
   "cell_type": "code",
   "execution_count": 39,
   "id": "42361f02-a871-4e73-a786-36c223e247b7",
   "metadata": {
    "tags": []
   },
   "outputs": [
    {
     "name": "stdout",
     "output_type": "stream",
     "text": [
      "2 * 1 = 2\t3 * 1 = 3\t4 * 1 = 4\t5 * 1 = 5\t6 * 1 = 6\t7 * 1 = 7\t8 * 1 = 8\t9 * 1 = 9\t\n",
      "2 * 2 = 4\t3 * 2 = 6\t4 * 2 = 8\t5 * 2 = 10\t6 * 2 = 12\t7 * 2 = 14\t8 * 2 = 16\t9 * 2 = 18\t\n",
      "2 * 3 = 6\t3 * 3 = 9\t4 * 3 = 12\t5 * 3 = 15\t6 * 3 = 18\t7 * 3 = 21\t8 * 3 = 24\t9 * 3 = 27\t\n",
      "2 * 4 = 8\t3 * 4 = 12\t4 * 4 = 16\t5 * 4 = 20\t6 * 4 = 24\t7 * 4 = 28\t8 * 4 = 32\t9 * 4 = 36\t\n",
      "2 * 5 = 10\t3 * 5 = 15\t4 * 5 = 20\t5 * 5 = 25\t6 * 5 = 30\t7 * 5 = 35\t8 * 5 = 40\t9 * 5 = 45\t\n",
      "2 * 6 = 12\t3 * 6 = 18\t4 * 6 = 24\t5 * 6 = 30\t6 * 6 = 36\t7 * 6 = 42\t8 * 6 = 48\t9 * 6 = 54\t\n",
      "2 * 7 = 14\t3 * 7 = 21\t4 * 7 = 28\t5 * 7 = 35\t6 * 7 = 42\t7 * 7 = 49\t8 * 7 = 56\t9 * 7 = 63\t\n",
      "2 * 8 = 16\t3 * 8 = 24\t4 * 8 = 32\t5 * 8 = 40\t6 * 8 = 48\t7 * 8 = 56\t8 * 8 = 64\t9 * 8 = 72\t\n",
      "2 * 9 = 18\t3 * 9 = 27\t4 * 9 = 36\t5 * 9 = 45\t6 * 9 = 54\t7 * 9 = 63\t8 * 9 = 72\t9 * 9 = 81\t\n"
     ]
    }
   ],
   "source": [
    "for count in range(1, 10):\n",
    "    for dan in range(2, 10):\n",
    "        result = dan * count\n",
    "        print(f\"{dan} * {count} = {result}\", end=\"\\t\")\n",
    "    print()"
   ]
  },
  {
   "cell_type": "code",
   "execution_count": null,
   "id": "cc23c606-86ff-4153-9d90-ab3e90daedb9",
   "metadata": {},
   "outputs": [],
   "source": []
  }
 ],
 "metadata": {
  "kernelspec": {
   "display_name": "Python 3 (ipykernel)",
   "language": "python",
   "name": "python3"
  },
  "language_info": {
   "codemirror_mode": {
    "name": "ipython",
    "version": 3
   },
   "file_extension": ".py",
   "mimetype": "text/x-python",
   "name": "python",
   "nbconvert_exporter": "python",
   "pygments_lexer": "ipython3",
   "version": "3.11.5"
  }
 },
 "nbformat": 4,
 "nbformat_minor": 5
}
