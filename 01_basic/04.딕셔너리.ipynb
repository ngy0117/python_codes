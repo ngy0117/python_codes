{
 "cells": [
  {
   "cell_type": "code",
   "execution_count": 1,
   "id": "6a2b528e-7620-4b27-9028-5d6f6f1d9948",
   "metadata": {
    "tags": []
   },
   "outputs": [],
   "source": [
    "d = dict() #키 값으로 정수와 문자는 가능 실수는 불가"
   ]
  },
  {
   "cell_type": "code",
   "execution_count": 2,
   "id": "4ab0456e-c76c-429d-a8ee-8d6a1507e850",
   "metadata": {
    "tags": []
   },
   "outputs": [
    {
     "data": {
      "text/plain": [
       "dict"
      ]
     },
     "execution_count": 2,
     "metadata": {},
     "output_type": "execute_result"
    }
   ],
   "source": [
    "type(d)"
   ]
  },
  {
   "cell_type": "code",
   "execution_count": 3,
   "id": "a864cd92-392b-4b46-9573-8741f76e59d0",
   "metadata": {
    "tags": []
   },
   "outputs": [
    {
     "data": {
      "text/plain": [
       "{}"
      ]
     },
     "execution_count": 3,
     "metadata": {},
     "output_type": "execute_result"
    }
   ],
   "source": [
    "d"
   ]
  },
  {
   "cell_type": "code",
   "execution_count": 12,
   "id": "c2bb97e4-f05a-420e-ac99-384d95799f39",
   "metadata": {
    "tags": []
   },
   "outputs": [],
   "source": [
    "#파이썬은 줄 바꾸기 주의, 콤마 찍고 줄바꿈 가능, 역슬래시 후 줄바꿈 가능\n",
    "dic = \\\n",
    "{'name' : 'pey',\n",
    "       'phone' : '010-1234-5678',\n",
    "       'birth' : '1118',\n",
    "'address' : '서울'}"
   ]
  },
  {
   "cell_type": "code",
   "execution_count": 7,
   "id": "3c61aae3-85ee-4c0e-a86e-f5e978fc0b4e",
   "metadata": {
    "tags": []
   },
   "outputs": [
    {
     "data": {
      "text/plain": [
       "'pey'"
      ]
     },
     "execution_count": 7,
     "metadata": {},
     "output_type": "execute_result"
    }
   ],
   "source": [
    "dic['name']"
   ]
  },
  {
   "cell_type": "code",
   "execution_count": 13,
   "id": "c56a867e-7f76-4a58-8e02-8c5280dec54b",
   "metadata": {
    "tags": []
   },
   "outputs": [
    {
     "data": {
      "text/plain": [
       "'서울'"
      ]
     },
     "execution_count": 13,
     "metadata": {},
     "output_type": "execute_result"
    }
   ],
   "source": [
    "dic['address']"
   ]
  },
  {
   "cell_type": "code",
   "execution_count": 17,
   "id": "172274e9-cc83-42b5-a70b-cf0eaf9dc2a5",
   "metadata": {
    "tags": []
   },
   "outputs": [
    {
     "data": {
      "text/plain": [
       "{'name': '홍길동',\n",
       " 'phone': '010-1234-5678',\n",
       " 'birth': '1118',\n",
       " 'address': '서울',\n",
       " 'etc': ''}"
      ]
     },
     "execution_count": 17,
     "metadata": {},
     "output_type": "execute_result"
    }
   ],
   "source": [
    "dic['etc'] = ''\n",
    "dic"
   ]
  },
  {
   "cell_type": "code",
   "execution_count": 18,
   "id": "344cf5ef-1d8c-4294-98d7-5a88715f1a83",
   "metadata": {
    "tags": []
   },
   "outputs": [],
   "source": [
    "dic['name'] = '홍길동'"
   ]
  },
  {
   "cell_type": "code",
   "execution_count": 19,
   "id": "14b85d6e-0254-473c-bc62-ad0fe3eb65c3",
   "metadata": {
    "tags": []
   },
   "outputs": [
    {
     "data": {
      "text/plain": [
       "{'name': '홍길동',\n",
       " 'phone': '010-1234-5678',\n",
       " 'birth': '1118',\n",
       " 'address': '서울',\n",
       " 'etc': ''}"
      ]
     },
     "execution_count": 19,
     "metadata": {},
     "output_type": "execute_result"
    }
   ],
   "source": [
    "dic"
   ]
  },
  {
   "cell_type": "code",
   "execution_count": 20,
   "id": "0be0ff8f-8619-4e66-9bde-caece3a38c67",
   "metadata": {
    "tags": []
   },
   "outputs": [],
   "source": [
    "del dic['etc']"
   ]
  },
  {
   "cell_type": "code",
   "execution_count": 22,
   "id": "b18e0d50-a532-4df0-bbcf-1c4ab7dbc5cc",
   "metadata": {
    "tags": []
   },
   "outputs": [
    {
     "data": {
      "text/plain": [
       "{'name': '홍길동', 'phone': '010-1234-5678', 'birth': '1118', 'address': '서울'}"
      ]
     },
     "execution_count": 22,
     "metadata": {},
     "output_type": "execute_result"
    }
   ],
   "source": [
    "dic"
   ]
  },
  {
   "cell_type": "code",
   "execution_count": 23,
   "id": "0ca47376-bdf3-4bab-8502-bf240fa55531",
   "metadata": {
    "tags": []
   },
   "outputs": [
    {
     "data": {
      "text/plain": [
       "'010-1234-5678'"
      ]
     },
     "execution_count": 23,
     "metadata": {},
     "output_type": "execute_result"
    }
   ],
   "source": [
    "dic['phone']"
   ]
  },
  {
   "cell_type": "code",
   "execution_count": 24,
   "id": "161076f7-6f83-4d58-b489-e68cc21c27f4",
   "metadata": {
    "tags": []
   },
   "outputs": [
    {
     "data": {
      "text/plain": [
       "dict_keys(['name', 'phone', 'birth', 'address'])"
      ]
     },
     "execution_count": 24,
     "metadata": {},
     "output_type": "execute_result"
    }
   ],
   "source": [
    "dic.keys()"
   ]
  },
  {
   "cell_type": "code",
   "execution_count": 25,
   "id": "5a3795ac-ff0d-480d-9ca7-85490b255b85",
   "metadata": {
    "tags": []
   },
   "outputs": [
    {
     "data": {
      "text/plain": [
       "dict_values(['홍길동', '010-1234-5678', '1118', '서울'])"
      ]
     },
     "execution_count": 25,
     "metadata": {},
     "output_type": "execute_result"
    }
   ],
   "source": [
    "dic.values()"
   ]
  },
  {
   "cell_type": "code",
   "execution_count": 26,
   "id": "31f9b83d-7add-4773-8212-cda1006056f7",
   "metadata": {
    "tags": []
   },
   "outputs": [
    {
     "data": {
      "text/plain": [
       "dict_items([('name', '홍길동'), ('phone', '010-1234-5678'), ('birth', '1118'), ('address', '서울')])"
      ]
     },
     "execution_count": 26,
     "metadata": {},
     "output_type": "execute_result"
    }
   ],
   "source": [
    "dic.items()"
   ]
  },
  {
   "cell_type": "code",
   "execution_count": 27,
   "id": "064f2d16-556d-4697-afbe-7ad7f1dd3103",
   "metadata": {
    "tags": []
   },
   "outputs": [
    {
     "name": "stdout",
     "output_type": "stream",
     "text": [
      "name\n",
      "phone\n",
      "birth\n",
      "address\n"
     ]
    }
   ],
   "source": [
    "for i in dic.keys():\n",
    "    print(i)"
   ]
  },
  {
   "cell_type": "code",
   "execution_count": 28,
   "id": "49125ecc-ccb1-4bda-bdca-cd89c606484d",
   "metadata": {
    "tags": []
   },
   "outputs": [
    {
     "name": "stdout",
     "output_type": "stream",
     "text": [
      "홍길동\n",
      "010-1234-5678\n",
      "1118\n",
      "서울\n"
     ]
    }
   ],
   "source": [
    "for i in dic.values():\n",
    "    print(i)"
   ]
  },
  {
   "cell_type": "code",
   "execution_count": 29,
   "id": "73826445-ef99-40c6-b4cb-2a3ddafa0c50",
   "metadata": {
    "tags": []
   },
   "outputs": [
    {
     "name": "stdout",
     "output_type": "stream",
     "text": [
      "('name', '홍길동')\n",
      "('phone', '010-1234-5678')\n",
      "('birth', '1118')\n",
      "('address', '서울')\n"
     ]
    }
   ],
   "source": [
    "for i in dic.items():\n",
    "    print(i)"
   ]
  },
  {
   "cell_type": "code",
   "execution_count": 30,
   "id": "e5be4ead-e8b4-4adf-8040-2ce9d55aa39a",
   "metadata": {
    "tags": []
   },
   "outputs": [
    {
     "data": {
      "text/plain": [
       "'홍길동'"
      ]
     },
     "execution_count": 30,
     "metadata": {},
     "output_type": "execute_result"
    }
   ],
   "source": [
    "dic['name']"
   ]
  },
  {
   "cell_type": "code",
   "execution_count": 31,
   "id": "04009009-f78e-4ec7-9c98-e2670a5aef75",
   "metadata": {
    "tags": []
   },
   "outputs": [
    {
     "ename": "KeyError",
     "evalue": "'이름'",
     "output_type": "error",
     "traceback": [
      "\u001b[1;31m---------------------------------------------------------------------------\u001b[0m",
      "\u001b[1;31mKeyError\u001b[0m                                  Traceback (most recent call last)",
      "Cell \u001b[1;32mIn[31], line 1\u001b[0m\n\u001b[1;32m----> 1\u001b[0m dic[\u001b[38;5;124m'\u001b[39m\u001b[38;5;124m이름\u001b[39m\u001b[38;5;124m'\u001b[39m]\n",
      "\u001b[1;31mKeyError\u001b[0m: '이름'"
     ]
    }
   ],
   "source": [
    "dic['이름']"
   ]
  },
  {
   "cell_type": "code",
   "execution_count": 32,
   "id": "4d749993-7c04-4e04-9946-e753b2973cc3",
   "metadata": {
    "tags": []
   },
   "outputs": [],
   "source": [
    "dic.get('이름')"
   ]
  },
  {
   "cell_type": "code",
   "execution_count": 33,
   "id": "84f5cd5a-97b3-4334-a643-cd2b9d1cca96",
   "metadata": {
    "tags": []
   },
   "outputs": [
    {
     "data": {
      "text/plain": [
       "'홍길동'"
      ]
     },
     "execution_count": 33,
     "metadata": {},
     "output_type": "execute_result"
    }
   ],
   "source": [
    "dic.get('name')"
   ]
  },
  {
   "cell_type": "code",
   "execution_count": 34,
   "id": "dd815e3c-ade5-48f5-ad81-85d4023e3366",
   "metadata": {
    "tags": []
   },
   "outputs": [
    {
     "data": {
      "text/plain": [
       "True"
      ]
     },
     "execution_count": 34,
     "metadata": {},
     "output_type": "execute_result"
    }
   ],
   "source": [
    "'name' in dic"
   ]
  },
  {
   "cell_type": "code",
   "execution_count": 36,
   "id": "d23d14dc-3c3f-4cad-9a4c-ba038115e1e3",
   "metadata": {
    "tags": []
   },
   "outputs": [
    {
     "data": {
      "text/plain": [
       "False"
      ]
     },
     "execution_count": 36,
     "metadata": {},
     "output_type": "execute_result"
    }
   ],
   "source": [
    "'이름' in dic"
   ]
  },
  {
   "cell_type": "code",
   "execution_count": 37,
   "id": "9f1daa7b-517c-4fec-a94b-fa4c8fae5426",
   "metadata": {
    "tags": []
   },
   "outputs": [
    {
     "data": {
      "text/plain": [
       "set()"
      ]
     },
     "execution_count": 37,
     "metadata": {},
     "output_type": "execute_result"
    }
   ],
   "source": [
    "a = set()\n",
    "a"
   ]
  },
  {
   "cell_type": "code",
   "execution_count": 38,
   "id": "4ec3225f-dca6-4871-bfa3-f91b26f8a0c3",
   "metadata": {
    "tags": []
   },
   "outputs": [
    {
     "data": {
      "text/plain": [
       "set"
      ]
     },
     "execution_count": 38,
     "metadata": {},
     "output_type": "execute_result"
    }
   ],
   "source": [
    "type(a)"
   ]
  },
  {
   "cell_type": "code",
   "execution_count": 39,
   "id": "4b7f79b9-36da-47d8-8338-c2bf353f8b75",
   "metadata": {
    "tags": []
   },
   "outputs": [
    {
     "name": "stdout",
     "output_type": "stream",
     "text": [
      "4\n",
      "3\n",
      "2\n",
      "1\n"
     ]
    }
   ],
   "source": [
    "a = [1, 2, 3, 4]\n",
    "while a:\n",
    "    print(a.pop())"
   ]
  },
  {
   "cell_type": "code",
   "execution_count": 40,
   "id": "876e4cc0-6ca8-4205-b98a-77d6beb61695",
   "metadata": {
    "tags": []
   },
   "outputs": [
    {
     "ename": "SyntaxError",
     "evalue": "invalid decimal literal (1848045764.py, line 1)",
     "output_type": "error",
     "traceback": [
      "\u001b[1;36m  Cell \u001b[1;32mIn[40], line 1\u001b[1;36m\u001b[0m\n\u001b[1;33m    1ab = 1\u001b[0m\n\u001b[1;37m    ^\u001b[0m\n\u001b[1;31mSyntaxError\u001b[0m\u001b[1;31m:\u001b[0m invalid decimal literal\n"
     ]
    }
   ],
   "source": [
    "1ab = 1"
   ]
  },
  {
   "cell_type": "code",
   "execution_count": 41,
   "id": "1be9263b-d559-4221-8c82-520323d5801f",
   "metadata": {
    "tags": []
   },
   "outputs": [],
   "source": [
    "변수 = 1"
   ]
  },
  {
   "cell_type": "code",
   "execution_count": 42,
   "id": "f98eb828-9ff8-46d8-972e-bd50bb136599",
   "metadata": {
    "tags": []
   },
   "outputs": [
    {
     "data": {
      "text/plain": [
       "1"
      ]
     },
     "execution_count": 42,
     "metadata": {},
     "output_type": "execute_result"
    }
   ],
   "source": [
    "변수"
   ]
  },
  {
   "cell_type": "code",
   "execution_count": 43,
   "id": "c81ed462-da9d-40e1-a977-cc889fe8185d",
   "metadata": {
    "tags": []
   },
   "outputs": [],
   "source": [
    "a_b = 1"
   ]
  },
  {
   "cell_type": "code",
   "execution_count": 44,
   "id": "60747747-86c0-4bd6-8392-efb17983400c",
   "metadata": {
    "tags": []
   },
   "outputs": [
    {
     "data": {
      "text/plain": [
       "1"
      ]
     },
     "execution_count": 44,
     "metadata": {},
     "output_type": "execute_result"
    }
   ],
   "source": [
    "a_b"
   ]
  },
  {
   "cell_type": "code",
   "execution_count": 46,
   "id": "131b0316-6f8f-43f1-bc2a-72b02c0fe84f",
   "metadata": {
    "tags": []
   },
   "outputs": [
    {
     "ename": "SyntaxError",
     "evalue": "cannot assign to expression here. Maybe you meant '==' instead of '='? (2714643487.py, line 1)",
     "output_type": "error",
     "traceback": [
      "\u001b[1;36m  Cell \u001b[1;32mIn[46], line 1\u001b[1;36m\u001b[0m\n\u001b[1;33m    a - b = 1\u001b[0m\n\u001b[1;37m    ^\u001b[0m\n\u001b[1;31mSyntaxError\u001b[0m\u001b[1;31m:\u001b[0m cannot assign to expression here. Maybe you meant '==' instead of '='?\n"
     ]
    }
   ],
   "source": [
    "a - b = 1"
   ]
  },
  {
   "cell_type": "code",
   "execution_count": 47,
   "id": "81b47a42-cefb-4f7a-a1d9-328182353528",
   "metadata": {
    "tags": []
   },
   "outputs": [
    {
     "data": {
      "text/plain": [
       "1955448172160"
      ]
     },
     "execution_count": 47,
     "metadata": {},
     "output_type": "execute_result"
    }
   ],
   "source": [
    "id(a)"
   ]
  },
  {
   "cell_type": "code",
   "execution_count": 48,
   "id": "76fdf37c-e803-4a65-aab0-c1e9ed55cb79",
   "metadata": {
    "tags": []
   },
   "outputs": [
    {
     "data": {
      "text/plain": [
       "(140722943726376, 140722943726376)"
      ]
     },
     "execution_count": 48,
     "metadata": {},
     "output_type": "execute_result"
    }
   ],
   "source": [
    "a = 1\n",
    "b = 1\n",
    "id(a), id(b)"
   ]
  },
  {
   "cell_type": "code",
   "execution_count": 49,
   "id": "3cb9a1aa-9f91-40c0-9ab5-0d7a0d998f78",
   "metadata": {
    "tags": []
   },
   "outputs": [
    {
     "data": {
      "text/plain": [
       "True"
      ]
     },
     "execution_count": 49,
     "metadata": {},
     "output_type": "execute_result"
    }
   ],
   "source": [
    "a is b"
   ]
  },
  {
   "cell_type": "code",
   "execution_count": 50,
   "id": "e9447e6b-4e4e-4ab3-b7f7-81bc1b2908ba",
   "metadata": {
    "tags": []
   },
   "outputs": [
    {
     "data": {
      "text/plain": [
       "(1955461717696, 1955447729920)"
      ]
     },
     "execution_count": 50,
     "metadata": {},
     "output_type": "execute_result"
    }
   ],
   "source": [
    "c = [1, 2, 3]\n",
    "d = [1, 2, 3]\n",
    "id(c), id(d)"
   ]
  },
  {
   "cell_type": "code",
   "execution_count": 51,
   "id": "2f2b8eeb-f296-4ec4-832d-606249df6965",
   "metadata": {
    "tags": []
   },
   "outputs": [
    {
     "data": {
      "text/plain": [
       "False"
      ]
     },
     "execution_count": 51,
     "metadata": {},
     "output_type": "execute_result"
    }
   ],
   "source": [
    "c is d"
   ]
  },
  {
   "cell_type": "code",
   "execution_count": 52,
   "id": "9f22f4b0-37f6-4434-8248-d37b0cfe89c8",
   "metadata": {
    "tags": []
   },
   "outputs": [
    {
     "data": {
      "text/plain": [
       "(1955461454528, 1955461781120)"
      ]
     },
     "execution_count": 52,
     "metadata": {},
     "output_type": "execute_result"
    }
   ],
   "source": [
    "a = [1, 2, 3]\n",
    "b = a[:]\n",
    "id(a), id(b)"
   ]
  },
  {
   "cell_type": "code",
   "execution_count": 53,
   "id": "01f7f883-a5cb-46e4-b9cd-d1bb66242e84",
   "metadata": {
    "tags": []
   },
   "outputs": [
    {
     "data": {
      "text/plain": [
       "False"
      ]
     },
     "execution_count": 53,
     "metadata": {},
     "output_type": "execute_result"
    }
   ],
   "source": [
    "a is b"
   ]
  },
  {
   "cell_type": "code",
   "execution_count": null,
   "id": "44b099f2-5a9f-4ae7-bfbb-10ec889d5ba6",
   "metadata": {},
   "outputs": [],
   "source": []
  }
 ],
 "metadata": {
  "kernelspec": {
   "display_name": "Python 3 (ipykernel)",
   "language": "python",
   "name": "python3"
  },
  "language_info": {
   "codemirror_mode": {
    "name": "ipython",
    "version": 3
   },
   "file_extension": ".py",
   "mimetype": "text/x-python",
   "name": "python",
   "nbconvert_exporter": "python",
   "pygments_lexer": "ipython3",
   "version": "3.11.5"
  }
 },
 "nbformat": 4,
 "nbformat_minor": 5
}
